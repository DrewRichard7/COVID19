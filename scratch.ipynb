{
 "nbformat": 4,
 "nbformat_minor": 2,
 "metadata": {
  "language_info": {
   "name": "python",
   "codemirror_mode": {
    "name": "ipython",
    "version": 3
   },
   "version": "3.7.4-final"
  },
  "orig_nbformat": 2,
  "file_extension": ".py",
  "mimetype": "text/x-python",
  "name": "python",
  "npconvert_exporter": "python",
  "pygments_lexer": "ipython3",
  "version": 3,
  "kernelspec": {
   "name": "python37464bit4a04ec71e24a4e40829fe3a734ccbee9",
   "display_name": "Python 3.7.4 64-bit"
  }
 },
 "cells": [
  {
   "cell_type": "code",
   "execution_count": 84,
   "metadata": {},
   "outputs": [
    {
     "output_type": "error",
     "ename": "TypeError",
     "evalue": "tuple indices must be integers or slices, not str",
     "traceback": [
      "\u001b[0;31m---------------------------------------------------------------------------\u001b[0m",
      "\u001b[0;31mTypeError\u001b[0m                                 Traceback (most recent call last)",
      "\u001b[0;32m<ipython-input-84-249ee072452e>\u001b[0m in \u001b[0;36m<module>\u001b[0;34m\u001b[0m\n\u001b[1;32m     14\u001b[0m \u001b[0;34m\u001b[0m\u001b[0m\n\u001b[1;32m     15\u001b[0m \u001b[0;31m#cutting out all non-US data from dataframe\u001b[0m\u001b[0;34m\u001b[0m\u001b[0;34m\u001b[0m\u001b[0;34m\u001b[0m\u001b[0m\n\u001b[0;32m---> 16\u001b[0;31m \u001b[0mdf\u001b[0m \u001b[0;34m=\u001b[0m \u001b[0mconfirmed_df\u001b[0m\u001b[0;34m[\u001b[0m\u001b[0mconfirmed_df\u001b[0m\u001b[0;34m[\u001b[0m\u001b[0;34m'Country/Region'\u001b[0m\u001b[0;34m]\u001b[0m \u001b[0;34m==\u001b[0m \u001b[0;34m'US'\u001b[0m\u001b[0;34m]\u001b[0m\u001b[0;34m\u001b[0m\u001b[0;34m\u001b[0m\u001b[0m\n\u001b[0m\u001b[1;32m     17\u001b[0m \u001b[0;34m\u001b[0m\u001b[0m\n\u001b[1;32m     18\u001b[0m \u001b[0;31m# Dropping all columns except dates\u001b[0m\u001b[0;34m\u001b[0m\u001b[0;34m\u001b[0m\u001b[0;34m\u001b[0m\u001b[0m\n",
      "\u001b[0;31mTypeError\u001b[0m: tuple indices must be integers or slices, not str"
     ]
    }
   ],
   "source": [
    "# Coronavirus statistical analysis - Started March 12 2013 at 10:29 PM\n",
    "# Scratch code file\n",
    "\n",
    "import pandas as pd\n",
    "import numpy as np\n",
    "from matplotlib import pyplot as plt\n",
    "\n",
    "try:\n",
    "    confirmed_df = pd.read_csv(\n",
    "        'COVID-19/csse_covid_19_data/csse_covid_19_time_series/time_series_19-covid-Confirmed.csv'),\n",
    "except IOError:\n",
    "    print(\"Dataset not available, please clone repo listed in README\")\n",
    "    exit()\n",
    "\n",
    "#cutting out all non-US data from dataframe\n",
    "df = confirmed_df[confirmed_df['Country/Region'] == 'US']\n",
    "\n",
    "# Dropping all columns except dates\n",
    "df_US = df.drop(columns=['Province/State', 'Country/Region', 'Lat', 'Long'])\n",
    "\n",
    "# summing data for each date\n",
    "column_totals = df_US.sum()\n",
    "\n",
    "#creating a new pandas DataFrame with only the US totals\n",
    "frame = {'US Total':column_totals}\n",
    "df2 = pd.DataFrame(frame)\n",
    "\n",
    "# Plotting the US Data\n",
    "fig = plt.figure()\n",
    "plt.subplot(211)\n",
    "plt.plot(df2)\n",
    "plt.title('United States Growth')\n",
    "plt.xticks([])\n",
    "plt.ylabel('# of cases')\n",
    "\n",
    "plt.subplot(212)\n",
    "plt.plot(df2)\n",
    "plt.yscale('log')\n",
    "plt.xticks(np.arange(0,len(df2),step=7), rotation=45)\n",
    "plt.xlabel(xlabel='Date since first case in United States')\n",
    "plt.ylabel('Log(# of cases)')"
   ]
  },
  {
   "cell_type": "code",
   "execution_count": null,
   "metadata": {},
   "outputs": [],
   "source": []
  }
 ]
}